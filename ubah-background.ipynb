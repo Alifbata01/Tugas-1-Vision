{
 "cells": [
  {
   "cell_type": "code",
   "execution_count": 1,
   "id": "7d641dc7-fea9-4faa-8556-cafd8ad7619e",
   "metadata": {},
   "outputs": [],
   "source": [
    "import cv2\n",
    "import numpy as np\n",
    "\n",
    "# Load gambar\n",
    "image = cv2.imread(\"Sepatu.jpg\")\n",
    "cv2.imshow(\"watsab\", image)\n",
    "\n",
    "# Ubah gambar ke ruang warna HSV untuk memudahkan deteksi warna merah\n",
    "hsv = cv2.cvtColor(image, cv2.COLOR_BGR2HSV)\n",
    "\n",
    "# Range untuk warna merah (background asli)\n",
    "lower_red1 = np.array([0, 50, 50])  # Range merah pertama (Hue 0-10)\n",
    "upper_red1 = np.array([10, 255, 255])\n",
    "\n",
    "lower_red2 = np.array([170, 50, 50])  # Range merah kedua (Hue 170-180)\n",
    "upper_red2 = np.array([180, 255, 255])\n",
    "\n",
    "# Gabungkan kedua mask untuk mendeteksi warna merah\n",
    "mask1 = cv2.inRange(hsv, lower_red1, upper_red1)\n",
    "mask2 = cv2.inRange(hsv, lower_red2, upper_red2)\n",
    "mask = cv2.bitwise_or(mask1, mask2)\n",
    "\n",
    "# Buat background biru\n",
    "blue_background = np.full_like(image, (255, 0, 0))  # Warna biru dalam format BGR\n",
    "\n",
    "# Gabungkan gambar asli dengan background biru menggunakan mask\n",
    "result = cv2.bitwise_and(blue_background, blue_background, mask=mask)\n",
    "result = cv2.bitwise_or(result, cv2.bitwise_and(image, image, mask=cv2.bitwise_not(mask)))\n",
    "\n",
    "# Tampilkan hasil\n",
    "cv2.imshow(\"Gambar dengan Background Biru\", result)\n",
    "cv2.waitKey(0)\n",
    "cv2.destroyAllWindows()\n"
   ]
  },
  {
   "cell_type": "code",
   "execution_count": null,
   "id": "e08bed44-111e-4c82-8293-460e1235f8a7",
   "metadata": {},
   "outputs": [],
   "source": []
  },
  {
   "cell_type": "code",
   "execution_count": null,
   "id": "3792d558-6704-4036-9f5c-5fa14e6056e9",
   "metadata": {},
   "outputs": [],
   "source": []
  }
 ],
 "metadata": {
  "kernelspec": {
   "display_name": "Python 3 (ipykernel)",
   "language": "python",
   "name": "python3"
  },
  "language_info": {
   "codemirror_mode": {
    "name": "ipython",
    "version": 3
   },
   "file_extension": ".py",
   "mimetype": "text/x-python",
   "name": "python",
   "nbconvert_exporter": "python",
   "pygments_lexer": "ipython3",
   "version": "3.10.11"
  }
 },
 "nbformat": 4,
 "nbformat_minor": 5
}
